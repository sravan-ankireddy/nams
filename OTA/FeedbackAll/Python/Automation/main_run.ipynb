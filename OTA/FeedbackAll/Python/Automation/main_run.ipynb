{
 "cells": [
  {
   "cell_type": "code",
   "execution_count": 35,
   "metadata": {},
   "outputs": [],
   "source": [
    "import numpy as np\n",
    "import matlab.engine\n",
    "import os\n",
    "import signal\n",
    "import time\n",
    "import scipy.io as sio\n",
    "import time\n",
    "import subprocess\n",
    "import matplotlib.pyplot as plt"
   ]
  },
  {
   "cell_type": "code",
   "execution_count": 36,
   "metadata": {},
   "outputs": [],
   "source": [
    "forward_tx_gain = 5\n",
    "forward_rx_gain = 12\n",
    "backward_tx_gain = 10\n",
    "backward_rx_gain = 15"
   ]
  },
  {
   "cell_type": "code",
   "execution_count": 37,
   "metadata": {},
   "outputs": [],
   "source": [
    "\n",
    "string1 = 'python3 TX_Feedback.py -tx_gain ' + str(forward_tx_gain)\n",
    "string2 = 'python3 RX_Feedback.py -rx_gain ' + str(forward_rx_gain)\n",
    "string3 = 'python3 TX_Feedback.py -rx_gain ' + str(backward_rx_gain)\n",
    "string4 = 'python3 RX_Feedback.py -tx_gain ' + str(backward_tx_gain)"
   ]
  },
  {
   "cell_type": "code",
   "execution_count": 38,
   "metadata": {},
   "outputs": [
    {
     "name": "stdout",
     "output_type": "stream",
     "text": [
      "\n",
      "PROCESS BEGINS\n",
      "\n",
      "TX Encoder 1 generated\n",
      "TX Transmission 1 starts\n"
     ]
    },
    {
     "data": {
      "text/plain": [
       "0"
      ]
     },
     "execution_count": 38,
     "metadata": {},
     "output_type": "execute_result"
    }
   ],
   "source": [
    "# Message generation\n",
    "subprocess.call(string1 + ' -dev_type encoder -num 1', shell= True)"
   ]
  },
  {
   "cell_type": "code",
   "execution_count": 39,
   "metadata": {},
   "outputs": [
    {
     "data": {
      "image/png": "[encoded data removed]",
      "text/plain": [
       "<Figure size 432x288 with 1 Axes>"
      ]
     },
     "metadata": {
      "needs_background": "light"
     },
     "output_type": "display_data"
    }
   ],
   "source": [
    "Bit_Input = sio.loadmat('/home/rajesh/sravan_ra/nams/OTA/FeedbackAll/Python/Automation/Feedback_Files/Bit_Input.mat')\n",
    "Bit_Input = Bit_Input['Bit_Input']\n",
    "\n",
    "C1_Output = sio.loadmat('/home/rajesh/sravan_ra/nams/OTA/FeedbackAll/Python/Automation/Feedback_Files/C1_Output.mat')\n",
    "C1_Output = C1_Output['C_Output']\n",
    "\n",
    "\n",
    "plt.scatter(Bit_Input[np.where(Bit_Input==0)], C1_Output[np.where(Bit_Input==0)], color = 'r')\n",
    "plt.scatter(Bit_Input[np.where(Bit_Input==1)], C1_Output[np.where(Bit_Input==1)], color = 'b')\n",
    "plt.xlabel('Bit input')\n",
    "plt.ylabel('C1 Output')\n",
    "plt.grid(True)\n",
    "plt.xlim([-1, 2])\n",
    "plt.ylim([-2, 2])\n",
    "plt.show()"
   ]
  },
  {
   "cell_type": "code",
   "execution_count": 40,
   "metadata": {},
   "outputs": [
    {
     "name": "stdout",
     "output_type": "stream",
     "text": [
      "RX Reception 11 starts\n",
      "Capture : 1 ...\n",
      "Capture done\n",
      "Frame: 0  SNR:  28.63  BER: 0.0022\n",
      "\n",
      "All frames captured\n",
      "\n",
      "Process Successfully terminated\n"
     ]
    },
    {
     "data": {
      "text/plain": [
       "0"
      ]
     },
     "execution_count": 40,
     "metadata": {},
     "output_type": "execute_result"
    }
   ],
   "source": [
    "# Receiver receives first message\n",
    "subprocess.call(string2 + ' -dev_type decoder -num 1', shell= True)\n",
    "\n",
    "# Transmitter process kill\n",
    "subprocess.call('python3 /home/rajesh/sravan_ra/nams/OTA/FeedbackAll/Python/Automation/flowgraph_process_kill.py', shell= True)"
   ]
  },
  {
   "cell_type": "code",
   "execution_count": 41,
   "metadata": {},
   "outputs": [
    {
     "data": {
      "image/png": "[encoded data removed]",
      "text/plain": [
       "<Figure size 432x288 with 1 Axes>"
      ]
     },
     "metadata": {
      "needs_background": "light"
     },
     "output_type": "display_data"
    }
   ],
   "source": [
    "Bit_Input = sio.loadmat('/home/rajesh/sravan_ra/nams/OTA/FeedbackAll/Python/Automation/Feedback_Files/Bit_Input.mat')\n",
    "Bit_Input = Bit_Input['Bit_Input']\n",
    "\n",
    "C1_Output = sio.loadmat('/home/rajesh/sravan_ra/nams/OTA/FeedbackAll/Python/Automation/Feedback_Files/C1_Output.mat')\n",
    "C1_Output = C1_Output['C_Output']\n",
    "\n",
    "Y1_Output = sio.loadmat('/home/rajesh/sravan_ra/nams/OTA/FeedbackAll/Python/Automation/Feedback_Files/Y1_Output.mat')\n",
    "Y1_Output = Y1_Output['YL']\n",
    "\n",
    "\n",
    "plt.scatter(C1_Output[np.where(Bit_Input==0)], Y1_Output[np.where(Bit_Input==0)], color = 'r')\n",
    "plt.scatter(C1_Output[np.where(Bit_Input==1)], Y1_Output[np.where(Bit_Input==1)], color = 'b')\n",
    "plt.xlabel('C1 Output')\n",
    "plt.ylabel('Y1 Output')\n",
    "plt.grid(True)\n",
    "plt.xlim([-2, 2])\n",
    "plt.ylim([-4, 4])\n",
    "plt.show()"
   ]
  },
  {
   "cell_type": "code",
   "execution_count": 42,
   "metadata": {},
   "outputs": [
    {
     "name": "stdout",
     "output_type": "stream",
     "text": [
      "RX Encoder 1 generated\n",
      "RX Transmission1 starts\n"
     ]
    },
    {
     "data": {
      "text/plain": [
       "0"
      ]
     },
     "execution_count": 42,
     "metadata": {},
     "output_type": "execute_result"
    }
   ],
   "source": [
    "# first Feedback prepared by receiver\n",
    "subprocess.call(string4 + ' -dev_type encoder -num 1', shell= True)"
   ]
  },
  {
   "cell_type": "code",
   "execution_count": 43,
   "metadata": {},
   "outputs": [
    {
     "data": {
      "image/png": "[encoded data removed]",
      "text/plain": [
       "<Figure size 432x288 with 1 Axes>"
      ]
     },
     "metadata": {
      "needs_background": "light"
     },
     "output_type": "display_data"
    }
   ],
   "source": [
    "Bit_Input = sio.loadmat('/home/rajesh/sravan_ra/nams/OTA/FeedbackAll/Python/Automation/Feedback_Files/Bit_Input.mat')\n",
    "Bit_Input = Bit_Input['Bit_Input']\n",
    "\n",
    "Y1_Output = sio.loadmat('/home/rajesh/sravan_ra/nams/OTA/FeedbackAll/Python/Automation/Feedback_Files/Y1_Output.mat')\n",
    "Y1_Output = Y1_Output['YL']\n",
    "\n",
    "B1_Output = sio.loadmat('/home/rajesh/sravan_ra/nams/OTA/FeedbackAll/Python/Automation/Feedback_Files/B1_Output.mat')\n",
    "B1_Output = B1_Output['B_Output']\n",
    "\n",
    "\n",
    "plt.scatter(Y1_Output[np.where(Bit_Input==0)], B1_Output[np.where(Bit_Input==0)], color = 'r')\n",
    "plt.scatter(Y1_Output[np.where(Bit_Input==1)], B1_Output[np.where(Bit_Input==1)], color = 'b')\n",
    "plt.xlabel('Y1 Output')\n",
    "plt.ylabel('B1 Output')\n",
    "plt.grid(True)\n",
    "plt.xlim([-3, 3])\n",
    "plt.ylim([-4, 4])\n",
    "plt.show()"
   ]
  },
  {
   "cell_type": "code",
   "execution_count": 44,
   "metadata": {},
   "outputs": [
    {
     "name": "stdout",
     "output_type": "stream",
     "text": [
      "TX Reception 1 starts\n",
      "Capture : 1 ...\n",
      "Capture done\n",
      "Frame: 0  SNR:  28.39\n",
      "\n",
      "All frames captured\n",
      "\n",
      "Process Successfully terminated\n"
     ]
    },
    {
     "data": {
      "text/plain": [
       "0"
      ]
     },
     "execution_count": 44,
     "metadata": {},
     "output_type": "execute_result"
    }
   ],
   "source": [
    "# Transmitter received feedback\n",
    "subprocess.call(string3 + ' -dev_type decoder -num 1', shell= True)\n",
    "\n",
    "# Receiver transmitter process killed\n",
    "subprocess.call('python3 flowgraph_process_kill.py', shell= True)"
   ]
  },
  {
   "cell_type": "code",
   "execution_count": 45,
   "metadata": {},
   "outputs": [
    {
     "data": {
      "image/png": "[encoded data removed]",
      "text/plain": [
       "<Figure size 432x288 with 1 Axes>"
      ]
     },
     "metadata": {
      "needs_background": "light"
     },
     "output_type": "display_data"
    }
   ],
   "source": [
    "Bit_Input = sio.loadmat('/home/rajesh/sravan_ra/nams/OTA/FeedbackAll/Python/Automation/Feedback_Files/Bit_Input.mat')\n",
    "Bit_Input = Bit_Input['Bit_Input']\n",
    "\n",
    "B1_Output = sio.loadmat('/home/rajesh/sravan_ra/nams/OTA/FeedbackAll/Python/Automation/Feedback_Files/B1_Output.mat')\n",
    "B1_Output = B1_Output['B_Output']\n",
    "\n",
    "Z1_Output = sio.loadmat('/home/rajesh/sravan_ra/nams/OTA/FeedbackAll/Python/Automation/Feedback_Files/Z1_Output.mat')\n",
    "Z1_Output = Z1_Output['ZL']\n",
    "\n",
    "\n",
    "plt.scatter(B1_Output[np.where(Bit_Input==0)], Z1_Output[np.where(Bit_Input==0)], color = 'r')\n",
    "plt.scatter(B1_Output[np.where(Bit_Input==1)], Z1_Output[np.where(Bit_Input==1)], color = 'b')\n",
    "plt.xlabel('B1 Output')\n",
    "plt.ylabel('Z1 Output')\n",
    "plt.grid(True)\n",
    "plt.xlim([-2, 2])\n",
    "plt.ylim([-4, 4])\n",
    "plt.show()"
   ]
  },
  {
   "cell_type": "code",
   "execution_count": 46,
   "metadata": {},
   "outputs": [
    {
     "name": "stdout",
     "output_type": "stream",
     "text": [
      "TX Encoder 2 generated\n",
      "TX Transmission 2 starts\n"
     ]
    },
    {
     "data": {
      "text/plain": [
       "0"
      ]
     },
     "execution_count": 46,
     "metadata": {},
     "output_type": "execute_result"
    }
   ],
   "source": [
    "# Feedback received and second transmission prepared\n",
    "subprocess.call(string1 + ' -dev_type encoder -num 2', shell= True)"
   ]
  },
  {
   "cell_type": "code",
   "execution_count": 47,
   "metadata": {},
   "outputs": [
    {
     "data": {
      "image/png": "[encoded data removed]",
      "text/plain": [
       "<Figure size 432x288 with 1 Axes>"
      ]
     },
     "metadata": {
      "needs_background": "light"
     },
     "output_type": "display_data"
    }
   ],
   "source": [
    "Bit_Input = sio.loadmat('/home/rajesh/sravan_ra/nams/OTA/FeedbackAll/Python/Automation/Feedback_Files/Bit_Input.mat')\n",
    "Bit_Input = Bit_Input['Bit_Input']\n",
    "\n",
    "Z1_Output = sio.loadmat('/home/rajesh/sravan_ra/nams/OTA/FeedbackAll/Python/Automation/Feedback_Files/Z1_Output.mat')\n",
    "Z1_Output = Z1_Output['ZL']\n",
    "\n",
    "C2_Output = sio.loadmat('/home/rajesh/sravan_ra/nams/OTA/FeedbackAll/Python/Automation/Feedback_Files/C2_Output.mat')\n",
    "C2_Output = C2_Output['C_Output']\n",
    "\n",
    "\n",
    "plt.scatter(Z1_Output[np.where(Bit_Input==0)], C2_Output[np.where(Bit_Input==0)], color = 'r')\n",
    "plt.scatter(Z1_Output[np.where(Bit_Input==1)], C2_Output[np.where(Bit_Input==1)], color = 'b')\n",
    "plt.xlabel('Z1 Output')\n",
    "plt.ylabel('C2 Output')\n",
    "plt.grid(True)\n",
    "plt.xlim([-2, 2])\n",
    "plt.ylim([-2, 2])\n",
    "plt.show()"
   ]
  },
  {
   "cell_type": "code",
   "execution_count": 48,
   "metadata": {},
   "outputs": [
    {
     "name": "stdout",
     "output_type": "stream",
     "text": [
      "RX Reception 21 starts\n",
      "Capture : 1 ...\n",
      "Capture done\n",
      "Frame: 0  SNR:  30.10\n",
      "\n",
      "All frames captured\n",
      "\n",
      "Process Successfully terminated\n"
     ]
    },
    {
     "data": {
      "text/plain": [
       "0"
      ]
     },
     "execution_count": 48,
     "metadata": {},
     "output_type": "execute_result"
    }
   ],
   "source": [
    "# Receiver receives second message\n",
    "subprocess.call(string2 + ' -dev_type decoder -num 2', shell= True)\n",
    "\n",
    "# Transmitter process kill\n",
    "subprocess.call('python3 /home/rajesh/sravan_ra/nams/OTA/FeedbackAll/Python/Automation/flowgraph_process_kill.py', shell= True)"
   ]
  },
  {
   "cell_type": "code",
   "execution_count": 49,
   "metadata": {},
   "outputs": [
    {
     "data": {
      "image/png": "[encoded data removed]",
      "text/plain": [
       "<Figure size 432x288 with 1 Axes>"
      ]
     },
     "metadata": {
      "needs_background": "light"
     },
     "output_type": "display_data"
    }
   ],
   "source": [
    "Bit_Input = sio.loadmat('/home/rajesh/sravan_ra/nams/OTA/FeedbackAll/Python/Automation/Feedback_Files/Bit_Input.mat')\n",
    "Bit_Input = Bit_Input['Bit_Input']\n",
    "\n",
    "C2_Output = sio.loadmat('/home/rajesh/sravan_ra/nams/OTA/FeedbackAll/Python/Automation/Feedback_Files/C2_Output.mat')\n",
    "C2_Output = C2_Output['C_Output']\n",
    "\n",
    "Y2_Output = sio.loadmat('/home/rajesh/sravan_ra/nams/OTA/FeedbackAll/Python/Automation/Feedback_Files/Y2_Output.mat')\n",
    "Y2_Output = Y2_Output['YL']\n",
    "\n",
    "\n",
    "plt.scatter(C2_Output[np.where(Bit_Input==0)], Y2_Output[np.where(Bit_Input==0)], color = 'r')\n",
    "plt.scatter(C2_Output[np.where(Bit_Input==1)], Y2_Output[np.where(Bit_Input==1)], color = 'b')\n",
    "plt.xlabel('C2 Output')\n",
    "plt.ylabel('Y2 Output')\n",
    "plt.grid(True)\n",
    "plt.xlim([-2, 2])\n",
    "plt.ylim([-4, 4])\n",
    "plt.show()"
   ]
  },
  {
   "cell_type": "code",
   "execution_count": 50,
   "metadata": {},
   "outputs": [
    {
     "name": "stdout",
     "output_type": "stream",
     "text": [
      "RX Encoder 1 generated\n",
      "RX Transmission2 starts\n"
     ]
    },
    {
     "data": {
      "text/plain": [
       "0"
      ]
     },
     "execution_count": 50,
     "metadata": {},
     "output_type": "execute_result"
    }
   ],
   "source": [
    "# final feedback Feedback prepared by receiver\n",
    "subprocess.call(string4 + ' -dev_type encoder -num 2', shell= True)"
   ]
  },
  {
   "cell_type": "code",
   "execution_count": 51,
   "metadata": {},
   "outputs": [
    {
     "data": {
      "image/png": "[encoded data removed]",
      "text/plain": [
       "<Figure size 432x288 with 1 Axes>"
      ]
     },
     "metadata": {
      "needs_background": "light"
     },
     "output_type": "display_data"
    }
   ],
   "source": [
    "Bit_Input = sio.loadmat('/home/rajesh/sravan_ra/nams/OTA/FeedbackAll/Python/Automation/Feedback_Files/Bit_Input.mat')\n",
    "Bit_Input = Bit_Input['Bit_Input']\n",
    "\n",
    "Y2_Output = sio.loadmat('/home/rajesh/sravan_ra/nams/OTA/FeedbackAll/Python/Automation/Feedback_Files/Y2_Output.mat')\n",
    "Y2_Output = Y2_Output['YL']\n",
    "\n",
    "B2_Output = sio.loadmat('/home/rajesh/sravan_ra/nams/OTA/FeedbackAll/Python/Automation/Feedback_Files/B2_Output.mat')\n",
    "B2_Output = B2_Output['B_Output']\n",
    "\n",
    "\n",
    "plt.scatter(Y2_Output[np.where(Bit_Input==0)], B2_Output[np.where(Bit_Input==0)], color = 'r')\n",
    "plt.scatter(Y2_Output[np.where(Bit_Input==1)], B2_Output[np.where(Bit_Input==1)], color = 'b')\n",
    "plt.xlabel('Y2 Output')\n",
    "plt.ylabel('B2 Output')\n",
    "plt.grid(True)\n",
    "plt.xlim([-2, 2])\n",
    "plt.ylim([-4, 4])\n",
    "plt.show()"
   ]
  },
  {
   "cell_type": "code",
   "execution_count": 52,
   "metadata": {},
   "outputs": [
    {
     "name": "stdout",
     "output_type": "stream",
     "text": [
      "TX Reception 1 starts\n",
      "Capture : 1 ...\n",
      "Capture done\n",
      "Frame: 0  SNR:  29.42\n",
      "\n",
      "All frames captured\n",
      "\n",
      "Process Successfully terminated\n"
     ]
    },
    {
     "data": {
      "text/plain": [
       "0"
      ]
     },
     "execution_count": 52,
     "metadata": {},
     "output_type": "execute_result"
    }
   ],
   "source": [
    "# Transmitter receives second feedback\n",
    "subprocess.call(string3 +' -dev_type decoder -num 2', shell= True)\n",
    "\n",
    "# Receiver transmitter process killed\n",
    "subprocess.call('python3 flowgraph_process_kill.py', shell= True)"
   ]
  },
  {
   "cell_type": "code",
   "execution_count": 53,
   "metadata": {},
   "outputs": [
    {
     "data": {
      "image/png": "[encoded data removed]",
      "text/plain": [
       "<Figure size 432x288 with 1 Axes>"
      ]
     },
     "metadata": {
      "needs_background": "light"
     },
     "output_type": "display_data"
    }
   ],
   "source": [
    "Bit_Input = sio.loadmat('/home/rajesh/sravan_ra/nams/OTA/FeedbackAll/Python/Automation/Feedback_Files/Bit_Input.mat')\n",
    "Bit_Input = Bit_Input['Bit_Input']\n",
    "\n",
    "B2_Output = sio.loadmat('/home/rajesh/sravan_ra/nams/OTA/FeedbackAll/Python/Automation/Feedback_Files/B2_Output.mat')\n",
    "B2_Output = B2_Output['B_Output']\n",
    "\n",
    "Z2_Output = sio.loadmat('/home/rajesh/sravan_ra/nams/OTA/FeedbackAll/Python/Automation/Feedback_Files/Z2_Output.mat')\n",
    "Z2_Output = Z2_Output['ZL']\n",
    "\n",
    "\n",
    "plt.scatter(B2_Output[np.where(Bit_Input==0)], Z2_Output[np.where(Bit_Input==0)], color = 'r')\n",
    "plt.scatter(B2_Output[np.where(Bit_Input==1)], Z2_Output[np.where(Bit_Input==1)], color = 'b')\n",
    "plt.xlabel('B2 Output')\n",
    "plt.ylabel('Z2 Output')\n",
    "plt.grid(True)\n",
    "plt.xlim([-2, 2])\n",
    "plt.ylim([-4, 4])\n",
    "plt.show()"
   ]
  },
  {
   "cell_type": "code",
   "execution_count": 54,
   "metadata": {},
   "outputs": [
    {
     "name": "stdout",
     "output_type": "stream",
     "text": [
      "TX Encoder 3 generated\n",
      "TX Transmission 3 starts\n"
     ]
    },
    {
     "data": {
      "text/plain": [
       "0"
      ]
     },
     "execution_count": 54,
     "metadata": {},
     "output_type": "execute_result"
    }
   ],
   "source": [
    "# Feedback received and second transmission prepared\n",
    "subprocess.call(string1 + ' -dev_type encoder -num 3', shell= True)"
   ]
  },
  {
   "cell_type": "code",
   "execution_count": 55,
   "metadata": {},
   "outputs": [
    {
     "data": {
      "image/png": "[encoded data removed]",
      "text/plain": [
       "<Figure size 432x288 with 1 Axes>"
      ]
     },
     "metadata": {
      "needs_background": "light"
     },
     "output_type": "display_data"
    }
   ],
   "source": [
    "Bit_Input = sio.loadmat('/home/rajesh/sravan_ra/nams/OTA/FeedbackAll/Python/Automation/Feedback_Files/Bit_Input.mat')\n",
    "Bit_Input = Bit_Input['Bit_Input']\n",
    "\n",
    "Z2_Output = sio.loadmat('/home/rajesh/sravan_ra/nams/OTA/FeedbackAll/Python/Automation/Feedback_Files/Z2_Output.mat')\n",
    "Z2_Output = Z2_Output['ZL']\n",
    "\n",
    "C3_Output = sio.loadmat('/home/rajesh/sravan_ra/nams/OTA/FeedbackAll/Python/Automation/Feedback_Files/C3_Output.mat')\n",
    "C3_Output = C3_Output['C_Output']\n",
    "\n",
    "\n",
    "plt.scatter(Z2_Output[np.where(Bit_Input==0)], C3_Output[np.where(Bit_Input==0)], color = 'r')\n",
    "plt.scatter(Z2_Output[np.where(Bit_Input==1)], C3_Output[np.where(Bit_Input==1)], color = 'b')\n",
    "plt.xlabel('Z2 Output')\n",
    "plt.ylabel('C3 Output')\n",
    "plt.grid(True)\n",
    "plt.xlim([-4, 4])\n",
    "plt.ylim([-2, 2])\n",
    "plt.show()"
   ]
  },
  {
   "cell_type": "code",
   "execution_count": 56,
   "metadata": {},
   "outputs": [
    {
     "name": "stdout",
     "output_type": "stream",
     "text": [
      "RX Reception 31 starts\n",
      "Capture : 1 ...\n",
      "Capture done\n",
      "Frame: 0  SNR:  30.09\n",
      "\n",
      "All frames captured\n",
      "\n",
      "Process Successfully terminated\n"
     ]
    },
    {
     "data": {
      "text/plain": [
       "0"
      ]
     },
     "execution_count": 56,
     "metadata": {},
     "output_type": "execute_result"
    }
   ],
   "source": [
    "# Receiver receives final message\n",
    "subprocess.call(string2 + ' -dev_type decoder -num 3', shell= True)\n",
    "\n",
    "# Transmitter process kill\n",
    "subprocess.call('python3 /home/rajesh/sravan_ra/nams/OTA/FeedbackAll/Python/Automation/flowgraph_process_kill.py', shell= True)"
   ]
  },
  {
   "cell_type": "code",
   "execution_count": 57,
   "metadata": {},
   "outputs": [
    {
     "data": {
      "image/png": "[encoded data removed]",
      "text/plain": [
       "<Figure size 432x288 with 1 Axes>"
      ]
     },
     "metadata": {
      "needs_background": "light"
     },
     "output_type": "display_data"
    }
   ],
   "source": [
    "Bit_Input = sio.loadmat('/home/rajesh/sravan_ra/nams/OTA/FeedbackAll/Python/Automation/Feedback_Files/Bit_Input.mat')\n",
    "Bit_Input = Bit_Input['Bit_Input']\n",
    "\n",
    "C3_Output = sio.loadmat('/home/rajesh/sravan_ra/nams/OTA/FeedbackAll/Python/Automation/Feedback_Files/C3_Output.mat')\n",
    "C3_Output = C3_Output['C_Output']\n",
    "\n",
    "Y3_Output = sio.loadmat('/home/rajesh/sravan_ra/nams/OTA/FeedbackAll/Python/Automation/Feedback_Files/Y3_Output.mat')\n",
    "Y3_Output = Y3_Output['YL']\n",
    "\n",
    "\n",
    "plt.scatter(C3_Output[np.where(Bit_Input==0)], Y3_Output[np.where(Bit_Input==0)], color = 'r')\n",
    "plt.scatter(C3_Output[np.where(Bit_Input==1)], Y3_Output[np.where(Bit_Input==1)], color = 'b')\n",
    "plt.xlabel('C3 Output')\n",
    "plt.ylabel('Y3 Output')\n",
    "plt.grid(True)\n",
    "plt.xlim([-2, 2])\n",
    "plt.ylim([-4, 4])\n",
    "plt.show()"
   ]
  },
  {
   "cell_type": "code",
   "execution_count": 58,
   "metadata": {},
   "outputs": [
    {
     "name": "stdout",
     "output_type": "stream",
     "text": [
      "Final Decoding starts\n",
      "Frame: 1  BER: 0.0000\n",
      "\n",
      "Process Ended\n",
      "\n"
     ]
    },
    {
     "data": {
      "text/plain": [
       "0"
      ]
     },
     "execution_count": 58,
     "metadata": {},
     "output_type": "execute_result"
    }
   ],
   "source": [
    "# Receiver does final decoding\n",
    "subprocess.call('python3 RX_Feedback.py -dev_type encoder -num 3', shell= True)"
   ]
  },
  {
   "cell_type": "code",
   "execution_count": 59,
   "metadata": {},
   "outputs": [
    {
     "data": {
      "image/png": "[encoded data removed]",
      "text/plain": [
       "<Figure size 432x288 with 1 Axes>"
      ]
     },
     "metadata": {
      "needs_background": "light"
     },
     "output_type": "display_data"
    }
   ],
   "source": [
    "Bit_Input = sio.loadmat('/home/rajesh/sravan_ra/nams/OTA/FeedbackAll/Python/Automation/Feedback_Files/Bit_Input.mat')\n",
    "Bit_Input = Bit_Input['Bit_Input']\n",
    "\n",
    "Y3_Output = sio.loadmat('/home/rajesh/sravan_ra/nams/OTA/FeedbackAll/Python/Automation/Feedback_Files/Y3_Output.mat')\n",
    "Y3_Output = Y3_Output['YL']\n",
    "\n",
    "BB3_Output = sio.loadmat('/home/rajesh/sravan_ra/nams/OTA/FeedbackAll/Python/Automation/Feedback_Files/BB3_Output.mat')\n",
    "BB3_Output = BB3_Output['BB_Output']\n",
    "\n",
    "\n",
    "plt.scatter(Y3_Output[np.where(Bit_Input==0)], BB3_Output[np.where(Bit_Input==0)], color = 'r')\n",
    "plt.scatter(Y3_Output[np.where(Bit_Input==1)], BB3_Output[np.where(Bit_Input==1)], color = 'b')\n",
    "plt.xlabel('Y3 Output')\n",
    "plt.ylabel('BB3 Output')\n",
    "plt.grid(True)\n",
    "plt.xlim([-2, 2])\n",
    "plt.ylim([-0.5, 1.5])\n",
    "plt.show()"
   ]
  },
  {
   "cell_type": "code",
   "execution_count": 60,
   "metadata": {},
   "outputs": [
    {
     "name": "stdout",
     "output_type": "stream",
     "text": [
      "Initial BER:  [0.99780093]\n",
      "Final BER:  [0.]\n"
     ]
    }
   ],
   "source": [
    "Bit_Input = sio.loadmat('/home/rajesh/sravan_ra/nams/OTA/FeedbackAll/Python/Automation/Feedback_Files/Bit_Input.mat')\n",
    "Bit_Input = Bit_Input['Bit_Input']\n",
    "\n",
    "Y1_Output = sio.loadmat('/home/rajesh/sravan_ra/nams/OTA/FeedbackAll/Python/Automation/Feedback_Files/Y1_Output.mat')\n",
    "Y1_Output = Y1_Output['YL']\n",
    "\n",
    "BB3_Output = sio.loadmat('/home/rajesh/sravan_ra/nams/OTA/FeedbackAll/Python/Automation/Feedback_Files/BB3_Output.mat')\n",
    "BB3_Output = BB3_Output['BB_Output']\n",
    "\n",
    "D1_output = np.zeros((len(Y1_Output),1))\n",
    "D2_output = np.zeros((len(BB3_Output),1))\n",
    "\n",
    "D1_output = np.where(Y1_Output>0, D1_output, 1)\n",
    "D2_output = np.where(BB3_Output>0.5, D2_output, 1)\n",
    "\n",
    "BER1 = 1 - sum(abs(D1_output - Bit_Input))/len(Bit_Input)\n",
    "BER2 = 1 - sum(abs(D2_output - Bit_Input))/len(Bit_Input)\n",
    "\n",
    "print('Initial BER: ' , BER1)\n",
    "print('Final BER: ' , BER2)"
   ]
  },
  {
   "cell_type": "code",
   "execution_count": 61,
   "metadata": {},
   "outputs": [
    {
     "name": "stdout",
     "output_type": "stream",
     "text": [
      "\n",
      "Process Successfully terminated\n"
     ]
    },
    {
     "data": {
      "text/plain": [
       "0"
      ]
     },
     "execution_count": 61,
     "metadata": {},
     "output_type": "execute_result"
    }
   ],
   "source": [
    "subprocess.call('python3 flowgraph_process_kill.py', shell= True)"
   ]
  },
  {
   "cell_type": "markdown",
   "metadata": {},
   "source": [
    "Following plots are generated\n",
    "1) Actual Signal Constellation for first transmission\n",
    "2) Equalized Signal Constellation for first transmission\n",
    "3) Phase Corrected Constellation for first transmission\n",
    "4) Channel Hist plot for first transmission"
   ]
  },
  {
   "cell_type": "code",
   "execution_count": 62,
   "metadata": {},
   "outputs": [
    {
     "ename": "FileNotFoundError",
     "evalue": "[Errno 2] No such file or directory: '/home/rajesh/sravan_ra/nams/OTA/FeedbackAll/Python/Automation/Feedback_Files/YPC1_Output.mat'",
     "output_type": "error",
     "traceback": [
      "\u001b[0;31m---------------------------------------------------------------------------\u001b[0m",
      "\u001b[0;31mFileNotFoundError\u001b[0m                         Traceback (most recent call last)",
      "\u001b[0;32m/usr/lib/python3/dist-packages/scipy/io/matlab/mio.py\u001b[0m in \u001b[0;36m_open_file\u001b[0;34m(file_like, appendmat, mode)\u001b[0m\n\u001b[1;32m     38\u001b[0m     \u001b[0;32mtry\u001b[0m\u001b[0;34m:\u001b[0m\u001b[0;34m\u001b[0m\u001b[0;34m\u001b[0m\u001b[0m\n\u001b[0;32m---> 39\u001b[0;31m         \u001b[0;32mreturn\u001b[0m \u001b[0mopen\u001b[0m\u001b[0;34m(\u001b[0m\u001b[0mfile_like\u001b[0m\u001b[0;34m,\u001b[0m \u001b[0mmode\u001b[0m\u001b[0;34m)\u001b[0m\u001b[0;34m,\u001b[0m \u001b[0;32mTrue\u001b[0m\u001b[0;34m\u001b[0m\u001b[0;34m\u001b[0m\u001b[0m\n\u001b[0m\u001b[1;32m     40\u001b[0m     \u001b[0;32mexcept\u001b[0m \u001b[0mIOError\u001b[0m\u001b[0;34m:\u001b[0m\u001b[0;34m\u001b[0m\u001b[0;34m\u001b[0m\u001b[0m\n",
      "\u001b[0;31mFileNotFoundError\u001b[0m: [Errno 2] No such file or directory: '/home/rajesh/sravan_ra/nams/OTA/FeedbackAll/Python/Automation/Feedback_Files/YPC1_Output.mat'",
      "\nDuring handling of the above exception, another exception occurred:\n",
      "\u001b[0;31mFileNotFoundError\u001b[0m                         Traceback (most recent call last)",
      "\u001b[0;32m/tmp/ipykernel_1486169/3441529031.py\u001b[0m in \u001b[0;36m<module>\u001b[0;34m\u001b[0m\n\u001b[1;32m      8\u001b[0m \u001b[0mYEQ1_Output\u001b[0m \u001b[0;34m=\u001b[0m \u001b[0mYEQ1_Output\u001b[0m\u001b[0;34m[\u001b[0m\u001b[0;34m'YEQ'\u001b[0m\u001b[0;34m]\u001b[0m\u001b[0;34m\u001b[0m\u001b[0;34m\u001b[0m\u001b[0m\n\u001b[1;32m      9\u001b[0m \u001b[0;34m\u001b[0m\u001b[0m\n\u001b[0;32m---> 10\u001b[0;31m \u001b[0mYPC1_Output\u001b[0m \u001b[0;34m=\u001b[0m \u001b[0msio\u001b[0m\u001b[0;34m.\u001b[0m\u001b[0mloadmat\u001b[0m\u001b[0;34m(\u001b[0m\u001b[0;34m'/home/rajesh/sravan_ra/nams/OTA/FeedbackAll/Python/Automation/Feedback_Files/YPC1_Output.mat'\u001b[0m\u001b[0;34m)\u001b[0m\u001b[0;34m\u001b[0m\u001b[0;34m\u001b[0m\u001b[0m\n\u001b[0m\u001b[1;32m     11\u001b[0m \u001b[0mYPC1_Output\u001b[0m \u001b[0;34m=\u001b[0m \u001b[0mYPC1_Output\u001b[0m\u001b[0;34m[\u001b[0m\u001b[0;34m'YPC'\u001b[0m\u001b[0;34m]\u001b[0m\u001b[0;34m\u001b[0m\u001b[0;34m\u001b[0m\u001b[0m\n\u001b[1;32m     12\u001b[0m \u001b[0;34m\u001b[0m\u001b[0m\n",
      "\u001b[0;32m/usr/lib/python3/dist-packages/scipy/io/matlab/mio.py\u001b[0m in \u001b[0;36mloadmat\u001b[0;34m(file_name, mdict, appendmat, **kwargs)\u001b[0m\n\u001b[1;32m    214\u001b[0m     \"\"\"\n\u001b[1;32m    215\u001b[0m     \u001b[0mvariable_names\u001b[0m \u001b[0;34m=\u001b[0m \u001b[0mkwargs\u001b[0m\u001b[0;34m.\u001b[0m\u001b[0mpop\u001b[0m\u001b[0;34m(\u001b[0m\u001b[0;34m'variable_names'\u001b[0m\u001b[0;34m,\u001b[0m \u001b[0;32mNone\u001b[0m\u001b[0;34m)\u001b[0m\u001b[0;34m\u001b[0m\u001b[0;34m\u001b[0m\u001b[0m\n\u001b[0;32m--> 216\u001b[0;31m     \u001b[0;32mwith\u001b[0m \u001b[0m_open_file_context\u001b[0m\u001b[0;34m(\u001b[0m\u001b[0mfile_name\u001b[0m\u001b[0;34m,\u001b[0m \u001b[0mappendmat\u001b[0m\u001b[0;34m)\u001b[0m \u001b[0;32mas\u001b[0m \u001b[0mf\u001b[0m\u001b[0;34m:\u001b[0m\u001b[0;34m\u001b[0m\u001b[0;34m\u001b[0m\u001b[0m\n\u001b[0m\u001b[1;32m    217\u001b[0m         \u001b[0mMR\u001b[0m\u001b[0;34m,\u001b[0m \u001b[0m_\u001b[0m \u001b[0;34m=\u001b[0m \u001b[0mmat_reader_factory\u001b[0m\u001b[0;34m(\u001b[0m\u001b[0mf\u001b[0m\u001b[0;34m,\u001b[0m \u001b[0;34m**\u001b[0m\u001b[0mkwargs\u001b[0m\u001b[0;34m)\u001b[0m\u001b[0;34m\u001b[0m\u001b[0;34m\u001b[0m\u001b[0m\n\u001b[1;32m    218\u001b[0m         \u001b[0mmatfile_dict\u001b[0m \u001b[0;34m=\u001b[0m \u001b[0mMR\u001b[0m\u001b[0;34m.\u001b[0m\u001b[0mget_variables\u001b[0m\u001b[0;34m(\u001b[0m\u001b[0mvariable_names\u001b[0m\u001b[0;34m)\u001b[0m\u001b[0;34m\u001b[0m\u001b[0;34m\u001b[0m\u001b[0m\n",
      "\u001b[0;32m/usr/lib/python3.8/contextlib.py\u001b[0m in \u001b[0;36m__enter__\u001b[0;34m(self)\u001b[0m\n\u001b[1;32m    111\u001b[0m         \u001b[0;32mdel\u001b[0m \u001b[0mself\u001b[0m\u001b[0;34m.\u001b[0m\u001b[0margs\u001b[0m\u001b[0;34m,\u001b[0m \u001b[0mself\u001b[0m\u001b[0;34m.\u001b[0m\u001b[0mkwds\u001b[0m\u001b[0;34m,\u001b[0m \u001b[0mself\u001b[0m\u001b[0;34m.\u001b[0m\u001b[0mfunc\u001b[0m\u001b[0;34m\u001b[0m\u001b[0;34m\u001b[0m\u001b[0m\n\u001b[1;32m    112\u001b[0m         \u001b[0;32mtry\u001b[0m\u001b[0;34m:\u001b[0m\u001b[0;34m\u001b[0m\u001b[0;34m\u001b[0m\u001b[0m\n\u001b[0;32m--> 113\u001b[0;31m             \u001b[0;32mreturn\u001b[0m \u001b[0mnext\u001b[0m\u001b[0;34m(\u001b[0m\u001b[0mself\u001b[0m\u001b[0;34m.\u001b[0m\u001b[0mgen\u001b[0m\u001b[0;34m)\u001b[0m\u001b[0;34m\u001b[0m\u001b[0;34m\u001b[0m\u001b[0m\n\u001b[0m\u001b[1;32m    114\u001b[0m         \u001b[0;32mexcept\u001b[0m \u001b[0mStopIteration\u001b[0m\u001b[0;34m:\u001b[0m\u001b[0;34m\u001b[0m\u001b[0;34m\u001b[0m\u001b[0m\n\u001b[1;32m    115\u001b[0m             \u001b[0;32mraise\u001b[0m \u001b[0mRuntimeError\u001b[0m\u001b[0;34m(\u001b[0m\u001b[0;34m\"generator didn't yield\"\u001b[0m\u001b[0;34m)\u001b[0m \u001b[0;32mfrom\u001b[0m \u001b[0;32mNone\u001b[0m\u001b[0;34m\u001b[0m\u001b[0;34m\u001b[0m\u001b[0m\n",
      "\u001b[0;32m/usr/lib/python3/dist-packages/scipy/io/matlab/mio.py\u001b[0m in \u001b[0;36m_open_file_context\u001b[0;34m(file_like, appendmat, mode)\u001b[0m\n\u001b[1;32m     17\u001b[0m \u001b[0;34m@\u001b[0m\u001b[0mcontextmanager\u001b[0m\u001b[0;34m\u001b[0m\u001b[0;34m\u001b[0m\u001b[0m\n\u001b[1;32m     18\u001b[0m \u001b[0;32mdef\u001b[0m \u001b[0m_open_file_context\u001b[0m\u001b[0;34m(\u001b[0m\u001b[0mfile_like\u001b[0m\u001b[0;34m,\u001b[0m \u001b[0mappendmat\u001b[0m\u001b[0;34m,\u001b[0m \u001b[0mmode\u001b[0m\u001b[0;34m=\u001b[0m\u001b[0;34m'rb'\u001b[0m\u001b[0;34m)\u001b[0m\u001b[0;34m:\u001b[0m\u001b[0;34m\u001b[0m\u001b[0;34m\u001b[0m\u001b[0m\n\u001b[0;32m---> 19\u001b[0;31m     \u001b[0mf\u001b[0m\u001b[0;34m,\u001b[0m \u001b[0mopened\u001b[0m \u001b[0;34m=\u001b[0m \u001b[0m_open_file\u001b[0m\u001b[0;34m(\u001b[0m\u001b[0mfile_like\u001b[0m\u001b[0;34m,\u001b[0m \u001b[0mappendmat\u001b[0m\u001b[0;34m,\u001b[0m \u001b[0mmode\u001b[0m\u001b[0;34m)\u001b[0m\u001b[0;34m\u001b[0m\u001b[0;34m\u001b[0m\u001b[0m\n\u001b[0m\u001b[1;32m     20\u001b[0m     \u001b[0;32myield\u001b[0m \u001b[0mf\u001b[0m\u001b[0;34m\u001b[0m\u001b[0;34m\u001b[0m\u001b[0m\n\u001b[1;32m     21\u001b[0m     \u001b[0;32mif\u001b[0m \u001b[0mopened\u001b[0m\u001b[0;34m:\u001b[0m\u001b[0;34m\u001b[0m\u001b[0;34m\u001b[0m\u001b[0m\n",
      "\u001b[0;32m/usr/lib/python3/dist-packages/scipy/io/matlab/mio.py\u001b[0m in \u001b[0;36m_open_file\u001b[0;34m(file_like, appendmat, mode)\u001b[0m\n\u001b[1;32m     43\u001b[0m             \u001b[0;32mif\u001b[0m \u001b[0mappendmat\u001b[0m \u001b[0;32mand\u001b[0m \u001b[0;32mnot\u001b[0m \u001b[0mfile_like\u001b[0m\u001b[0;34m.\u001b[0m\u001b[0mendswith\u001b[0m\u001b[0;34m(\u001b[0m\u001b[0;34m'.mat'\u001b[0m\u001b[0;34m)\u001b[0m\u001b[0;34m:\u001b[0m\u001b[0;34m\u001b[0m\u001b[0;34m\u001b[0m\u001b[0m\n\u001b[1;32m     44\u001b[0m                 \u001b[0mfile_like\u001b[0m \u001b[0;34m+=\u001b[0m \u001b[0;34m'.mat'\u001b[0m\u001b[0;34m\u001b[0m\u001b[0;34m\u001b[0m\u001b[0m\n\u001b[0;32m---> 45\u001b[0;31m             \u001b[0;32mreturn\u001b[0m \u001b[0mopen\u001b[0m\u001b[0;34m(\u001b[0m\u001b[0mfile_like\u001b[0m\u001b[0;34m,\u001b[0m \u001b[0mmode\u001b[0m\u001b[0;34m)\u001b[0m\u001b[0;34m,\u001b[0m \u001b[0;32mTrue\u001b[0m\u001b[0;34m\u001b[0m\u001b[0;34m\u001b[0m\u001b[0m\n\u001b[0m\u001b[1;32m     46\u001b[0m         \u001b[0;32melse\u001b[0m\u001b[0;34m:\u001b[0m\u001b[0;34m\u001b[0m\u001b[0;34m\u001b[0m\u001b[0m\n\u001b[1;32m     47\u001b[0m             \u001b[0;32mraise\u001b[0m \u001b[0mIOError\u001b[0m\u001b[0;34m(\u001b[0m\u001b[0;34m'Reader needs file name or open file-like object'\u001b[0m\u001b[0;34m)\u001b[0m\u001b[0;34m\u001b[0m\u001b[0;34m\u001b[0m\u001b[0m\n",
      "\u001b[0;31mFileNotFoundError\u001b[0m: [Errno 2] No such file or directory: '/home/rajesh/sravan_ra/nams/OTA/FeedbackAll/Python/Automation/Feedback_Files/YPC1_Output.mat'"
     ]
    }
   ],
   "source": [
    "Bit_Input = sio.loadmat('/home/rajesh/sravan_ra/nams/OTA/FeedbackAll/Python/Automation/Feedback_Files/Bit_Input.mat')\n",
    "Bit_Input = Bit_Input['Bit_Input']\n",
    "\n",
    "YUEQ1_Output = sio.loadmat('/home/rajesh/sravan_ra/nams/OTA/FeedbackAll/Python/Automation/Feedback_Files/YUEQ1_Output.mat')\n",
    "YUEQ1_Output = YUEQ1_Output['YUEQ']\n",
    "\n",
    "YEQ1_Output = sio.loadmat('/home/rajesh/sravan_ra/nams/OTA/FeedbackAll/Python/Automation/Feedback_Files/YEQ1_Output.mat')\n",
    "YEQ1_Output = YEQ1_Output['YEQ']\n",
    "\n",
    "YPC1_Output = sio.loadmat('/home/rajesh/sravan_ra/nams/OTA/FeedbackAll/Python/Automation/Feedback_Files/YPC1_Output.mat')\n",
    "YPC1_Output = YPC1_Output['YPC']\n",
    "\n",
    "\n",
    "YUEQ1_OutputR = np.real(YUEQ1_Output)\n",
    "YUEQ1_OutputI = np.imag(YUEQ1_Output)\n",
    "\n",
    "YEQ1_OutputR = np.real(YEQ1_Output)\n",
    "YEQ1_OutputI = np.imag(YEQ1_Output)\n",
    "\n",
    "YPC1_OutputR = np.real(YPC1_Output)\n",
    "YPC1_OutputI = np.imag(YPC1_Output)\n",
    "\n",
    "\n",
    "YPC1_OutputNR = np.real(YPC1_OutputR)\n",
    "YPC1_OutputNI = np.imag(YPC1_OutputR)\n",
    "\n",
    "plt.figure()\n",
    "plt.scatter(YUEQ1_OutputR[np.where(Bit_Input==0)], YUEQ1_OutputI[np.where(Bit_Input==0)], color = 'r')\n",
    "plt.scatter(YUEQ1_OutputR[np.where(Bit_Input==1)], YUEQ1_OutputI[np.where(Bit_Input==1)], color = 'b')\n",
    "plt.xlabel('Real')\n",
    "plt.ylabel('Imaginary')\n",
    "plt.title('Unequalized Rx')\n",
    "plt.grid(True)\n",
    "plt.savefig('Figures/YUEQ1.png')\n",
    "plt.show()\n",
    "\n",
    "plt.figure()\n",
    "plt.scatter(YEQ1_OutputR[np.where(Bit_Input==0)], YEQ1_OutputI[np.where(Bit_Input==0)], color = 'r')\n",
    "plt.scatter(YEQ1_OutputR[np.where(Bit_Input==1)], YEQ1_OutputI[np.where(Bit_Input==1)], color = 'b')\n",
    "plt.xlabel('Real')\n",
    "plt.ylabel('Imaginary')\n",
    "plt.title('Equalized Rx')\n",
    "plt.grid(True)\n",
    "plt.savefig('Figures/YEQ1.png')\n",
    "plt.show()\n",
    "\n",
    "plt.figure()\n",
    "plt.scatter(YPC1_OutputR[np.where(Bit_Input==0)], YPC1_OutputI[np.where(Bit_Input==0)], color = 'r')\n",
    "plt.scatter(YPC1_OutputR[np.where(Bit_Input==1)], YPC1_OutputI[np.where(Bit_Input==1)], color = 'b')\n",
    "plt.xlabel('Real')\n",
    "plt.ylabel('Imaginary')\n",
    "plt.title('Phase adjusted Rx')\n",
    "plt.grid(True)\n",
    "plt.savefig('Figures/YPC1.png')\n",
    "plt.show()\n",
    "\n",
    "plt.figure()\n",
    "plt.scatter(YPC1_OutputNR[np.where(Bit_Input==0)], YPC1_OutputNI[np.where(Bit_Input==0)], color = 'r')\n",
    "plt.scatter(YPC1_OutputNR[np.where(Bit_Input==1)], YPC1_OutputNI[np.where(Bit_Input==1)], color = 'b')\n",
    "plt.xlabel('Real')\n",
    "plt.ylabel('Imaginary')\n",
    "plt.title('Phase adjusted Rx')\n",
    "plt.grid(True)\n",
    "plt.savefig('Figures/YPC1.png')\n",
    "plt.show()"
   ]
  },
  {
   "cell_type": "code",
   "execution_count": null,
   "metadata": {},
   "outputs": [],
   "source": [
    "\n",
    "for i in ['Y', 'Z']:\n",
    "    for j in range(3):\n",
    "        try:\n",
    "            YH_Output = sio.loadmat('/home/rajesh/sravan_ra/nams/OTA/FeedbackAll/Python/Automation/Feedback_Files/' + i +'H'+ str(j+1) + '_Output.mat')\n",
    "            YH_Output = YH_Output[i + 'H']\n",
    "\n",
    "            YHR = np.real(YH_Output)\n",
    "            YHI = np.imag(YH_Output)\n",
    "\n",
    "            YHM = np.abs(YH_Output)\n",
    "            YHP = np.angle(YH_Output)\n",
    "\n",
    "            \n",
    "\n",
    "            # plt.figure()\n",
    "            # plt.scatter(YHR,YHI)\n",
    "            # plt.xlabel('Real')\n",
    "            # plt.ylabel('Imaginary')\n",
    "            # plt.title('Channel')\n",
    "            # plt.grid(True)\n",
    "            # plt.savefig('Figures/' + i + 'H' + str(j) + '.png')\n",
    "            # plt.show()\n",
    "\n",
    "            plt.figure()\n",
    "            plt.hist(YHM,10)\n",
    "            plt.title('Channel Magnitude Histogram ' + i + str(j+1))\n",
    "            plt.grid(True)\n",
    "            plt.savefig('Figures/' + i + 'H' + str(j) + '_HIST_MAG.png')\n",
    "            plt.show()\n",
    "\n",
    "            plt.figure()\n",
    "            plt.hist(YHP,200)\n",
    "            plt.title('Channel Phase Histogram ' + i + str(j+1))\n",
    "            plt.grid(True)\n",
    "            plt.savefig('Figures/' + i + 'H' + str(j) + '_HIST_PHASE.png')\n",
    "            plt.show()\n",
    "\n",
    "        except: \n",
    "            pass"
   ]
  },
  {
   "cell_type": "code",
   "execution_count": null,
   "metadata": {},
   "outputs": [],
   "source": [
    "\n",
    "\n",
    "C1_Output = sio.loadmat('/home/rajesh/sravan_ra/nams/OTA/FeedbackAll/Python/Automation/Feedback_Files/C1_Output.mat')\n",
    "C1_Output = C1_Output['C_Output']\n",
    "\n",
    "Y1_Output = sio.loadmat('/home/rajesh/sravan_ra/nams/OTA/FeedbackAll/Python/Automation/Feedback_Files/Y1_Output.mat')\n",
    "Y1_Output = Y1_Output['YL']\n",
    "\n",
    "Y1C1N = Y1_Output - C1_Output\n",
    "\n",
    "print(np.mean(Y1C1N))\n",
    "print(np.var(Y1C1N))\n",
    "\n",
    "plt.figure()\n",
    "plt.hist(Y1C1N,200)\n",
    "plt.title('Additive Histogram Y1C1')\n",
    "plt.grid(True)\n",
    "plt.savefig('Figures/Y1C1_additive_noise.png')\n",
    "plt.show()\n"
   ]
  }
 ],
 "metadata": {
  "interpreter": {
   "hash": "31f2aee4e71d21fbe5cf8b01ff0e069b9275f58929596ceb00d14d90e3e16cd6"
  },
  "kernelspec": {
   "display_name": "Python 3.8.10 64-bit",
   "name": "python3"
  },
  "language_info": {
   "codemirror_mode": {
    "name": "ipython",
    "version": 3
   },
   "file_extension": ".py",
   "mimetype": "text/x-python",
   "name": "python",
   "nbconvert_exporter": "python",
   "pygments_lexer": "ipython3",
   "version": "3.8.10"
  },
  "orig_nbformat": 4
 },
 "nbformat": 4,
 "nbformat_minor": 2
}
