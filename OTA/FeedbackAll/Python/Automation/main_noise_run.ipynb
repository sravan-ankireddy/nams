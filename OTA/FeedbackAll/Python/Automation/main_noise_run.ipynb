{
 "cells": [
  {
   "cell_type": "code",
   "execution_count": 2,
   "metadata": {},
   "outputs": [],
   "source": [
    "import numpy as np\n",
    "import matlab.engine\n",
    "import os\n",
    "import signal\n",
    "import time\n",
    "import scipy.io as sio\n",
    "import time\n",
    "import subprocess\n",
    "import matplotlib.pyplot as plt"
   ]
  },
  {
   "cell_type": "code",
   "execution_count": 3,
   "metadata": {},
   "outputs": [],
   "source": [
    "forward_tx_gain = 5\n",
    "forward_rx_gain = 12\n",
    "backward_tx_gain = 8\n",
    "backward_rx_gain = 12"
   ]
  },
  {
   "cell_type": "code",
   "execution_count": 62,
   "metadata": {},
   "outputs": [],
   "source": [
    "\n",
    "string1 = 'python3 TX_Feedback.py -tx_gain ' + str(forward_tx_gain)\n",
    "string2 = 'python3 RX_Feedback.py -rx_gain ' + str(forward_rx_gain)"
   ]
  },
  {
   "cell_type": "code",
   "execution_count": 63,
   "metadata": {},
   "outputs": [
    {
     "name": "stdout",
     "output_type": "stream",
     "text": [
      "TX Noise generated\n",
      "TX Transmission starts\n"
     ]
    },
    {
     "data": {
      "text/plain": [
       "0"
      ]
     },
     "execution_count": 63,
     "metadata": {},
     "output_type": "execute_result"
    }
   ],
   "source": [
    "# Message generation\n",
    "subprocess.call(string1 + ' -dev_type encoder_noise', shell= True)"
   ]
  },
  {
   "cell_type": "code",
   "execution_count": null,
   "metadata": {},
   "outputs": [],
   "source": [
    "# Receiver receives first message\n",
    "\n",
    "subprocess.call(string2 + ' -dev_type decoder_noise -n_captures 4', shell= True)\n",
    "    "
   ]
  },
  {
   "cell_type": "code",
   "execution_count": 65,
   "metadata": {},
   "outputs": [
    {
     "name": "stdout",
     "output_type": "stream",
     "text": [
      "\n",
      "Process Successfully terminated\n"
     ]
    },
    {
     "data": {
      "text/plain": [
       "0"
      ]
     },
     "execution_count": 65,
     "metadata": {},
     "output_type": "execute_result"
    }
   ],
   "source": [
    "subprocess.call('python3 /home/rajesh/ActiveFeedback/WirelessDL/Python/Automation/flowgraph_process_kill.py', shell= True)"
   ]
  },
  {
   "cell_type": "code",
   "execution_count": 4,
   "metadata": {},
   "outputs": [],
   "source": [
    "string3 = 'python3 TX_Feedback.py -rx_gain ' + str(backward_rx_gain)\n",
    "string4 = 'python3 RX_Feedback.py -tx_gain ' + str(backward_tx_gain)\n"
   ]
  },
  {
   "cell_type": "code",
   "execution_count": 7,
   "metadata": {},
   "outputs": [
    {
     "name": "stdout",
     "output_type": "stream",
     "text": [
      "TX Noise generated\n",
      "TX Transmission starts\n"
     ]
    },
    {
     "data": {
      "text/plain": [
       "0"
      ]
     },
     "execution_count": 7,
     "metadata": {},
     "output_type": "execute_result"
    }
   ],
   "source": [
    "# Message generation\n",
    "subprocess.call(string4 + ' -dev_type encoder_noise', shell= True)\n",
    "\n"
   ]
  },
  {
   "cell_type": "code",
   "execution_count": 8,
   "metadata": {},
   "outputs": [
    {
     "name": "stdout",
     "output_type": "stream",
     "text": [
      "RX Reception 31 starts\n",
      "Capture : 1 ...\n",
      "Capture done\n",
      "Frame: 0  SNR:  24.00\n",
      "Frame: 0  SNR:  23.48\n",
      "Frame: 0  SNR:  24.48\n",
      "Frame: 0  SNR:  24.55\n",
      "Frame: 0  SNR:  25.82\n",
      "Frame: 0  SNR:  26.21\n",
      "Capture : 2 ...\n",
      "Capture done\n",
      "Frame: 0  SNR:  28.31\n",
      "Frame: 0  SNR:  28.37\n",
      "Frame: 0  SNR:  28.63\n",
      "Frame: 0  SNR:  27.96\n",
      "Frame: 0  SNR:  28.03\n",
      "Frame: 0  SNR:  27.80\n",
      "Capture : 3 ...\n",
      "Capture done\n",
      "Frame: 0  SNR:  27.57\n",
      "Frame: 0  SNR:  27.83\n",
      "Frame: 0  SNR:  27.43\n",
      "Frame: 0  SNR:  27.32\n",
      "Frame: 0  SNR:  28.42\n",
      "Frame: 0  SNR:  27.90\n",
      "Capture : 4 ...\n",
      "Capture done\n",
      "Frame: 0  SNR:  20.71\n",
      "Frame: 0  SNR:  21.66\n",
      "Frame: 0  SNR:  21.54\n",
      "Frame: 0  SNR:  22.20\n",
      "Frame: 0  SNR:  21.89\n",
      "Frame: 0  SNR:  22.58\n",
      "\n",
      "Process Successfully terminated\n"
     ]
    },
    {
     "data": {
      "text/plain": [
       "0"
      ]
     },
     "execution_count": 8,
     "metadata": {},
     "output_type": "execute_result"
    }
   ],
   "source": [
    "# Receiver receives first message\n",
    "subprocess.call(string3 + ' -dev_type decoder_noise -n_captures 4', shell= True)\n",
    "\n",
    "# Transmitter process kill\n",
    "subprocess.call('python3 flowgraph_process_kill.py', shell= True)"
   ]
  },
  {
   "cell_type": "code",
   "execution_count": 9,
   "metadata": {},
   "outputs": [
    {
     "name": "stdout",
     "output_type": "stream",
     "text": [
      "\n",
      "Process Successfully terminated\n"
     ]
    },
    {
     "data": {
      "text/plain": [
       "0"
      ]
     },
     "execution_count": 9,
     "metadata": {},
     "output_type": "execute_result"
    }
   ],
   "source": [
    "subprocess.call('python3 flowgraph_process_kill.py', shell= True)"
   ]
  }
 ],
 "metadata": {
  "interpreter": {
   "hash": "31f2aee4e71d21fbe5cf8b01ff0e069b9275f58929596ceb00d14d90e3e16cd6"
  },
  "kernelspec": {
   "display_name": "Python 3.8.10 64-bit",
   "name": "python3"
  },
  "language_info": {
   "codemirror_mode": {
    "name": "ipython",
    "version": 3
   },
   "file_extension": ".py",
   "mimetype": "text/x-python",
   "name": "python",
   "nbconvert_exporter": "python",
   "pygments_lexer": "ipython3",
   "version": "3.8.10"
  },
  "orig_nbformat": 4
 },
 "nbformat": 4,
 "nbformat_minor": 2
}
